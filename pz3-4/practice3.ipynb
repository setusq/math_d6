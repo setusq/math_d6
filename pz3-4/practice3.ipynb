{
 "cells": [
  {
   "cell_type": "markdown",
   "metadata": {},
   "source": [
    "<h4><strong>Реализация методов одномерного поиска с точностью 0,001 для 6 варианта exp(x), x ∊ [0,100]</strong> </h4>"
   ]
  },
  {
   "cell_type": "markdown",
   "metadata": {},
   "source": [
    "<b>Аналитическое решение:</b> <br>Очевидно, что минимальное значение функция exp(x) примет при x=0 и будет равна 1."
   ]
  },
  {
   "cell_type": "code",
   "execution_count": 79,
   "metadata": {},
   "outputs": [],
   "source": [
    "import numpy as np\n",
    "import time\n",
    "import pandas as pd\n",
    "import math"
   ]
  },
  {
   "cell_type": "markdown",
   "metadata": {},
   "source": [
    "<b>Численные методы решения задачи</b>\n"
   ]
  },
  {
   "cell_type": "code",
   "execution_count": 80,
   "metadata": {},
   "outputs": [],
   "source": [
    "def f(x):\n",
    "    return np.exp(x)\n",
    "\n",
    "min_f_list = []\n",
    "min_x_list = []\n",
    "iterations_list = []\n",
    "exec_time_list = []"
   ]
  },
  {
   "cell_type": "markdown",
   "metadata": {},
   "source": [
    "<b>Метод половинного деления</b>"
   ]
  },
  {
   "cell_type": "code",
   "execution_count": 81,
   "metadata": {},
   "outputs": [
    {
     "name": "stdout",
     "output_type": "stream",
     "text": [
      "Метод половинного деления: Минимальное значение функции - 1.0, значение x - 0, число итераций - 17, время выполнения - 0.0 секунд\n"
     ]
    }
   ],
   "source": [
    "def find_min_half_interval(start, end, tol):\n",
    "    iterations = 0\n",
    "    while end - start > tol:\n",
    "        iterations += 1\n",
    "        mid = (start + end) / 2\n",
    "        if f(mid) > f(start):\n",
    "            end = mid\n",
    "        else:\n",
    "            start = mid\n",
    "    return start, f(start), iterations\n",
    "\n",
    "start_time = time.time()\n",
    "min_x, min_f, iterations = find_min_half_interval(0, 100, 0.001)\n",
    "end_time = time.time()\n",
    "exec_time = end_time - start_time\n",
    "print(f\"Метод половинного деления: Минимальное значение функции - {min_f}, значение x - {min_x}, число итераций - {iterations}, время выполнения - {exec_time} секунд\")\n",
    "\n",
    "min_f_list.append(min_f)\n",
    "min_x_list.append(min_x)\n",
    "iterations_list.append(iterations)\n",
    "exec_time_list.append(exec_time)"
   ]
  },
  {
   "cell_type": "markdown",
   "metadata": {},
   "source": [
    "<b>Метод золотого сечения</b>"
   ]
  },
  {
   "cell_type": "code",
   "execution_count": 82,
   "metadata": {},
   "outputs": [
    {
     "name": "stdout",
     "output_type": "stream",
     "text": [
      "Метод золотого сечения: Минимальное значение функции - 1.0, значение x - 0, число итераций - 24, время выполнения - 0.0 секунд\n"
     ]
    }
   ],
   "source": [
    "def find_min_golden_section(start, end, tol):\n",
    "    iterations = 0\n",
    "    while end - start > tol:\n",
    "        iterations += 1\n",
    "        mid1 = start + (end - start) * 0.382\n",
    "        mid2 = start + (end - start) * 0.618\n",
    "        if f(mid1) > f(mid2):\n",
    "            start = mid1\n",
    "        else:\n",
    "            end = mid2\n",
    "    return start, f(start), iterations\n",
    "\n",
    "start_time = time.time()\n",
    "min_x, min_f, iterations = find_min_golden_section(0, 100, 0.001)\n",
    "end_time = time.time()\n",
    "exec_time = end_time - start_time\n",
    "print(f\"Метод золотого сечения: Минимальное значение функции - {min_f}, значение x - {min_x}, число итераций - {iterations}, время выполнения - {exec_time} секунд\")\n",
    "min_f_list.append(min_f)\n",
    "min_x_list.append(min_x)\n",
    "iterations_list.append(iterations)\n",
    "exec_time_list.append(exec_time)"
   ]
  },
  {
   "cell_type": "markdown",
   "metadata": {},
   "source": [
    "<b>Метод Фибоначчи</b>"
   ]
  },
  {
   "cell_type": "code",
   "execution_count": 83,
   "metadata": {},
   "outputs": [
    {
     "name": "stdout",
     "output_type": "stream",
     "text": [
      "Метод Фиббоначи: Минимальное значение функции - 1.0020449054235308, значение x - 0.0020428174504223714, число итераций - 21, время выполнения - 0.0 секунд\n"
     ]
    }
   ],
   "source": [
    "def fibonacci_method(a, b, tol):\n",
    "    fib_sequence = [1, 1]\n",
    "    while fib_sequence[-1] < (b - a) / tol:\n",
    "        fib_sequence.append(fib_sequence[-1] + fib_sequence[-2])\n",
    "\n",
    "    rho = 0.5 * (1.0 + math.sqrt(5.0))\n",
    "    c = b - (b - a) / rho\n",
    "    d = a + (b - a) / rho\n",
    "    fc = f(c)\n",
    "    fd = f(d)\n",
    "    iterations = 0\n",
    "\n",
    "    while abs(c - d) > tol:\n",
    "        iterations += 1\n",
    "        if fc < fd:\n",
    "            b = d\n",
    "            d = c\n",
    "            c = b - (b - a) / rho\n",
    "            fd = fc\n",
    "            fc = f(c)\n",
    "        else:\n",
    "            a = c\n",
    "            c = d\n",
    "            d = a + (b - a) / rho\n",
    "            fc = fd\n",
    "            fd = f(d)\n",
    "\n",
    "    xmin = 0.5 * (a + b)\n",
    "    ymin = f(xmin)\n",
    "    return ymin, xmin, iterations\n",
    "\n",
    "start_time = time.time()\n",
    "min_f, min_x, iterations = fibonacci_method(0, 100, 0.001)\n",
    "end_time = time.time()\n",
    "exec_time = end_time - start_time\n",
    "print(f\"Метод Фиббоначи: Минимальное значение функции - {min_f}, значение x - {min_x}, число итераций - {iterations}, время выполнения - {exec_time} секунд\")\n",
    "min_f_list.append(min_f)\n",
    "min_x_list.append(min_x)\n",
    "iterations_list.append(iterations)\n",
    "exec_time_list.append(exec_time)"
   ]
  },
  {
   "cell_type": "markdown",
   "metadata": {},
   "source": [
    "<b>Метод Ньютона</b>"
   ]
  },
  {
   "cell_type": "markdown",
   "metadata": {},
   "source": [
    "Данный код использует функцию minimize из библиотеки SciPy с методом оптимизации 'L-BFGS-B'. Этот метод относится к квазиньютоновским методам, который является обобщением метода Ньютона. Он основан на аппроксимации обратного гессиана и обычно эффективен для задач оптимизации с ограничениями.\n",
    "'L-BFGS-B' является методом, который включает в себя идеи из метода Ньютона, но с определенными модификациями для улучшения производительности и учета ограничений и отлично подходит для поставленной задачи поиска минимума функции на интервале."
   ]
  },
  {
   "cell_type": "code",
   "execution_count": 84,
   "metadata": {},
   "outputs": [
    {
     "name": "stdout",
     "output_type": "stream",
     "text": [
      "Метод Ньютона: Минимальное значение функции - 1.0, значение x - [0.], число итераций - 4, время выполнения - 0.001001119613647461 секунд\n"
     ]
    }
   ],
   "source": [
    "from scipy.optimize import minimize\n",
    "\n",
    "def f(x):\n",
    "    return math.exp(x)\n",
    "\n",
    "def newtons_method():\n",
    "    start_time = time.time()\n",
    "    result = minimize(f, x0=50, bounds=[(0, 100)], method='L-BFGS-B')\n",
    "    end_time = time.time()\n",
    "    return result.fun, result.x, result.nfev, end_time - start_time\n",
    "\n",
    "min_f, min_x, iterations, exec_time = newtons_method()\n",
    "print(f\"Метод Ньютона: Минимальное значение функции - {min_f}, значение x - {min_x}, число итераций - {iterations}, время выполнения - {exec_time} секунд\")\n",
    "min_f_list.append(min_f)\n",
    "min_x_list.append(min_x)\n",
    "iterations_list.append(iterations)\n",
    "exec_time_list.append(exec_time)"
   ]
  },
  {
   "cell_type": "markdown",
   "metadata": {},
   "source": [
    "<b>Создание таблицы и экспорт в Excel</b>"
   ]
  },
  {
   "cell_type": "code",
   "execution_count": 91,
   "metadata": {},
   "outputs": [],
   "source": [
    "import pandas as pd\n",
    "\n",
    "df = pd.DataFrame({'Метод': ['Метод половинного деления', 'Метод золотого сечения', 'Метод Фибоначчи', 'Метод Ньютона'], 'Минимальное значение f(x)': min_f_list, 'Минимальное значение x': min_x_list, 'Число итераций': iterations_list, 'Время выполнения': exec_time_list})\n",
    "df.to_excel('Таблица методов.xlsx', index=False)"
   ]
  }
 ],
 "metadata": {
  "kernelspec": {
   "display_name": "Python 3",
   "language": "python",
   "name": "python3"
  },
  "language_info": {
   "codemirror_mode": {
    "name": "ipython",
    "version": 3
   },
   "file_extension": ".py",
   "mimetype": "text/x-python",
   "name": "python",
   "nbconvert_exporter": "python",
   "pygments_lexer": "ipython3",
   "version": "3.10.11"
  }
 },
 "nbformat": 4,
 "nbformat_minor": 2
}
