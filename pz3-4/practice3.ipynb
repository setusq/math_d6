{
 "cells": [
  {
   "cell_type": "markdown",
   "metadata": {},
   "source": [
    "<h4><strong>Реализация методов одномерного поиска с точностью 0,001 для 6 варианта exp(x), x ∊ [0,100]</strong> </h4>"
   ]
  },
  {
   "cell_type": "markdown",
   "metadata": {},
   "source": [
    "<b>Аналитическое решение:</b> <br>Очевидно, что минимальное значение функция exp(x) примет при x=0 и будет равна 1."
   ]
  },
  {
   "cell_type": "code",
   "execution_count": 66,
   "metadata": {},
   "outputs": [],
   "source": [
    "import numpy as np\n",
    "import time\n",
    "import pandas as pd\n",
    "import math"
   ]
  },
  {
   "cell_type": "markdown",
   "metadata": {},
   "source": [
    "<b>Численные методы решения задачи</b>\n"
   ]
  },
  {
   "cell_type": "code",
   "execution_count": 67,
   "metadata": {},
   "outputs": [],
   "source": [
    "def f(x):\n",
    "    return np.exp(x)\n",
    "\n",
    "min_f_list = []\n",
    "min_x_list = []\n",
    "iterations_list = []\n",
    "exec_time_list = []\n",
    "final_interval_length_list=[]"
   ]
  },
  {
   "cell_type": "markdown",
   "metadata": {},
   "source": [
    "<b>Метод половинного деления</b>"
   ]
  },
  {
   "cell_type": "code",
   "execution_count": 68,
   "metadata": {},
   "outputs": [
    {
     "name": "stdout",
     "output_type": "stream",
     "text": [
      "Метод половинного деления: Минимальное значение функции - 1.0, значение x - 0, число итераций - 17, время выполнения - 0.0 секунд, длина конечного отрезка - 0.000762939453125\n"
     ]
    }
   ],
   "source": [
    "import time\n",
    "\n",
    "def find_min_half_interval(start, end, tol):\n",
    "    iterations = 0\n",
    "    while end - start > tol:\n",
    "        iterations += 1\n",
    "        mid = (start + end) / 2\n",
    "        if f(mid) > f(start):\n",
    "            end = mid\n",
    "        else:\n",
    "            start = mid\n",
    "    final_interval_length = end - start\n",
    "    return start, f(start), final_interval_length, iterations\n",
    "\n",
    "start_time = time.time()\n",
    "min_x, min_f, final_interval_length, iterations = find_min_half_interval(0, 100, 0.001)\n",
    "end_time = time.time()\n",
    "exec_time = end_time - start_time\n",
    "print(f\"Метод половинного деления: Минимальное значение функции - {min_f}, значение x - {min_x}, \"\n",
    "      f\"число итераций - {iterations}, время выполнения - {exec_time} секунд, \"\n",
    "      f\"длина конечного отрезка - {final_interval_length}\")\n",
    "\n",
    "min_f_list.append(min_f)\n",
    "min_x_list.append(min_x)\n",
    "iterations_list.append(iterations)\n",
    "exec_time_list.append(exec_time)\n",
    "final_interval_length_list.append(final_interval_length)\n"
   ]
  },
  {
   "cell_type": "markdown",
   "metadata": {},
   "source": [
    "<b>Метод золотого сечения</b>"
   ]
  },
  {
   "cell_type": "code",
   "execution_count": 69,
   "metadata": {},
   "outputs": [
    {
     "name": "stdout",
     "output_type": "stream",
     "text": [
      "Метод золотого сечения: Минимальное значение функции - 1.0, значение x - 0, число итераций - 24, время выполнения - 0.0 секунд, длина конечного отрезка - 0.0009632153658702138\n"
     ]
    }
   ],
   "source": [
    "import time\n",
    "\n",
    "def find_min_golden_section(start, end, tol):\n",
    "    iterations = 0\n",
    "    while end - start > tol:\n",
    "        iterations += 1\n",
    "        mid1 = start + (end - start) * 0.382\n",
    "        mid2 = start + (end - start) * 0.618\n",
    "        if f(mid1) > f(mid2):\n",
    "            start = mid1\n",
    "        else:\n",
    "            end = mid2\n",
    "    final_interval_length = end - start\n",
    "    return start, f(start), final_interval_length, iterations\n",
    "\n",
    "start_time = time.time()\n",
    "min_x, min_f, final_interval_length, iterations = find_min_golden_section(0, 100, 0.001)\n",
    "end_time = time.time()\n",
    "exec_time = end_time - start_time\n",
    "print(f\"Метод золотого сечения: Минимальное значение функции - {min_f}, значение x - {min_x}, \"\n",
    "      f\"число итераций - {iterations}, время выполнения - {exec_time} секунд, \"\n",
    "      f\"длина конечного отрезка - {final_interval_length}\")\n",
    "\n",
    "min_f_list.append(min_f)\n",
    "min_x_list.append(min_x)\n",
    "iterations_list.append(iterations)\n",
    "exec_time_list.append(exec_time)\n",
    "final_interval_length_list.append(final_interval_length)\n"
   ]
  },
  {
   "cell_type": "markdown",
   "metadata": {},
   "source": [
    "<b>Метод Фибоначчи</b>"
   ]
  },
  {
   "cell_type": "code",
   "execution_count": 70,
   "metadata": {},
   "outputs": [
    {
     "name": "stdout",
     "output_type": "stream",
     "text": [
      "Метод Фиббоначи: Минимальное значение функции - 1.0020449054235308, значение x - 0.0020428174504223714, число итераций - 21, время выполнения - 0.0 секунд, длина конечного отрезка - 0.004085634900844743\n"
     ]
    }
   ],
   "source": [
    "import math\n",
    "import time\n",
    "\n",
    "def fibonacci_method(a, b, tol):\n",
    "    fib_sequence = [1, 1]\n",
    "    while fib_sequence[-1] < (b - a) / tol:\n",
    "        fib_sequence.append(fib_sequence[-1] + fib_sequence[-2])\n",
    "\n",
    "    rho = 0.5 * (1.0 + math.sqrt(5.0))\n",
    "    c = b - (b - a) / rho\n",
    "    d = a + (b - a) / rho\n",
    "    fc = f(c)\n",
    "    fd = f(d)\n",
    "    iterations = 0\n",
    "\n",
    "    while abs(c - d) > tol:\n",
    "        iterations += 1\n",
    "        if fc < fd:\n",
    "            b = d\n",
    "            d = c\n",
    "            c = b - (b - a) / rho\n",
    "            fd = fc\n",
    "            fc = f(c)\n",
    "        else:\n",
    "            a = c\n",
    "            c = d\n",
    "            d = a + (b - a) / rho\n",
    "            fc = fd\n",
    "            fd = f(d)\n",
    "\n",
    "    final_interval_length = b - a\n",
    "    xmin = 0.5 * (a + b)\n",
    "    ymin = f(xmin)\n",
    "    return ymin, xmin, final_interval_length, iterations\n",
    "\n",
    "start_time = time.time()\n",
    "min_f, min_x, final_interval_length, iterations = fibonacci_method(0, 100, 0.001)\n",
    "end_time = time.time()\n",
    "exec_time = end_time - start_time\n",
    "print(f\"Метод Фиббоначи: Минимальное значение функции - {min_f}, значение x - {min_x}, \"\n",
    "      f\"число итераций - {iterations}, время выполнения - {exec_time} секунд, \"\n",
    "      f\"длина конечного отрезка - {final_interval_length}\")\n",
    "\n",
    "min_f_list.append(min_f)\n",
    "min_x_list.append(min_x)\n",
    "iterations_list.append(iterations)\n",
    "exec_time_list.append(exec_time)\n",
    "final_interval_length_list.append(final_interval_length)\n"
   ]
  },
  {
   "cell_type": "markdown",
   "metadata": {},
   "source": [
    "<b>Метод Ньютона двумя способами</b>"
   ]
  },
  {
   "cell_type": "markdown",
   "metadata": {},
   "source": [
    "Данный код использует функцию minimize из библиотеки SciPy с методом оптимизации 'L-BFGS-B'. Этот метод относится к квазиньютоновским методам, который является обобщением метода Ньютона. Он основан на аппроксимации обратного гессиана и обычно эффективен для задач оптимизации с ограничениями.\n",
    "'L-BFGS-B' является методом, который включает в себя идеи из метода Ньютона, но с определенными модификациями для улучшения производительности и учета ограничений и отлично подходит для поставленной задачи поиска минимума функции на интервале."
   ]
  },
  {
   "cell_type": "code",
   "execution_count": 71,
   "metadata": {},
   "outputs": [
    {
     "name": "stdout",
     "output_type": "stream",
     "text": [
      "Метод Ньютона L-BFGS-B: Минимальное значение функции - 1.0, значение x - [0.], число итераций - 4, время выполнения - 0.0 секунд\n"
     ]
    },
    {
     "name": "stderr",
     "output_type": "stream",
     "text": [
      "C:\\Users\\n0ves\\AppData\\Local\\Temp\\ipykernel_9388\\473899115.py:4: DeprecationWarning: Conversion of an array with ndim > 0 to a scalar is deprecated, and will error in future. Ensure you extract a single element from your array before performing this operation. (Deprecated NumPy 1.25.)\n",
      "  return math.exp(x)\n"
     ]
    }
   ],
   "source": [
    "from scipy.optimize import minimize\n",
    "\n",
    "def f(x):\n",
    "    return math.exp(x)\n",
    "\n",
    "def newtons_method():\n",
    "    start_time = time.time()\n",
    "    result = minimize(f, x0=50, bounds=[(0, 100)], method='L-BFGS-B')\n",
    "    end_time = time.time()\n",
    "    return result.fun, result.x, result.nfev, end_time - start_time\n",
    "\n",
    "min_f, min_x, iterations, exec_time = newtons_method()\n",
    "print(f\"Метод Ньютона L-BFGS-B: Минимальное значение функции - {min_f}, значение x - {min_x}, число итераций - {iterations}, время выполнения - {exec_time} секунд\")\n",
    "min_f_list.append(min_f)\n",
    "min_x_list.append(min_x)\n",
    "iterations_list.append(iterations)\n",
    "exec_time_list.append(exec_time)\n",
    "final_interval_length_list.append(final_interval_length)"
   ]
  },
  {
   "cell_type": "markdown",
   "metadata": {},
   "source": [
    "Стандарнтый метод Ньютона"
   ]
  },
  {
   "cell_type": "code",
   "execution_count": 77,
   "metadata": {},
   "outputs": [
    {
     "name": "stdout",
     "output_type": "stream",
     "text": [
      "Метод Ньютона: Минимальное значение функции - 1.0, значение x - 0, число итераций - 51, время выполнения - 0.000000 секунд, длина конечного отрезка - 4.440892098500626e-14\n"
     ]
    }
   ],
   "source": [
    "def func(x):\n",
    "    return math.exp(x)\n",
    "\n",
    "def derivative(x):\n",
    "    return math.exp(x)\n",
    "\n",
    "def newton_method(initial_guess, tolerance, interval):\n",
    "    x = initial_guess\n",
    "    iteration = 0\n",
    "\n",
    "    start_time = time.time()\n",
    "\n",
    "    while abs(derivative(x)) > tolerance and interval[0] <= x <= interval[1]:\n",
    "        x = x - func(x) / derivative(x)\n",
    "        iteration += 1\n",
    "\n",
    "    end_time = time.time()\n",
    "    exec_time = end_time - start_time\n",
    "\n",
    "    if x < interval[0]:\n",
    "        x = interval[0]\n",
    "    elif x > interval[1]:\n",
    "        x = interval[1]\n",
    "\n",
    "    final_interval_length = interval[1] - interval[0]\n",
    "\n",
    "    return x, func(x), final_interval_length, iteration, exec_time\n",
    "\n",
    "initial_guess = 50\n",
    "interval = (0, 100)\n",
    "tolerance = 0.001\n",
    "\n",
    "min_x, min_f, _, iterations, exec_time = newton_method(initial_guess, tolerance, interval)\n",
    "\n",
    "interval_length = (interval[1] - interval[0]) / 2**iterations\n",
    "print(f\"Метод Ньютона: Минимальное значение функции - {min_f}, значение x - {min_x}, \"\n",
    "      f\"число итераций - {iterations}, время выполнения - {exec_time:.6f} секунд, \"\n",
    "      f\"длина конечного отрезка - {interval_length}\")\n",
    "\n",
    "min_f_list.append(min_f)\n",
    "min_x_list.append(min_x)\n",
    "iterations_list.append(iterations)\n",
    "exec_time_list.append(exec_time)\n",
    "final_interval_length_list.append(interval_length)"
   ]
  },
  {
   "cell_type": "markdown",
   "metadata": {},
   "source": [
    "<b>Создание таблицы и экспорт в Excel</b>"
   ]
  },
  {
   "cell_type": "code",
   "execution_count": 74,
   "metadata": {},
   "outputs": [
    {
     "data": {
      "text/html": [
       "<div>\n",
       "<style scoped>\n",
       "    .dataframe tbody tr th:only-of-type {\n",
       "        vertical-align: middle;\n",
       "    }\n",
       "\n",
       "    .dataframe tbody tr th {\n",
       "        vertical-align: top;\n",
       "    }\n",
       "\n",
       "    .dataframe thead th {\n",
       "        text-align: right;\n",
       "    }\n",
       "</style>\n",
       "<table border=\"1\" class=\"dataframe\">\n",
       "  <thead>\n",
       "    <tr style=\"text-align: right;\">\n",
       "      <th></th>\n",
       "      <th>Метод</th>\n",
       "      <th>Минимальное значение f(x)</th>\n",
       "      <th>Минимальное значение x</th>\n",
       "      <th>Число итераций</th>\n",
       "      <th>Время выполнения</th>\n",
       "      <th>Длина конечного отрезка</th>\n",
       "    </tr>\n",
       "  </thead>\n",
       "  <tbody>\n",
       "    <tr>\n",
       "      <th>0</th>\n",
       "      <td>Метод половинного деления</td>\n",
       "      <td>1.000000</td>\n",
       "      <td>0</td>\n",
       "      <td>17</td>\n",
       "      <td>0.0</td>\n",
       "      <td>7.629395e-04</td>\n",
       "    </tr>\n",
       "    <tr>\n",
       "      <th>1</th>\n",
       "      <td>Метод золотого сечения</td>\n",
       "      <td>1.000000</td>\n",
       "      <td>0</td>\n",
       "      <td>24</td>\n",
       "      <td>0.0</td>\n",
       "      <td>9.632154e-04</td>\n",
       "    </tr>\n",
       "    <tr>\n",
       "      <th>2</th>\n",
       "      <td>Метод Фибоначчи</td>\n",
       "      <td>1.002045</td>\n",
       "      <td>0.002043</td>\n",
       "      <td>21</td>\n",
       "      <td>0.0</td>\n",
       "      <td>4.085635e-03</td>\n",
       "    </tr>\n",
       "    <tr>\n",
       "      <th>3</th>\n",
       "      <td>Метод Ньютона L-BFGS-B</td>\n",
       "      <td>1.000000</td>\n",
       "      <td>[0.0]</td>\n",
       "      <td>4</td>\n",
       "      <td>0.0</td>\n",
       "      <td>4.085635e-03</td>\n",
       "    </tr>\n",
       "    <tr>\n",
       "      <th>4</th>\n",
       "      <td>Метод Ньютона</td>\n",
       "      <td>1.000000</td>\n",
       "      <td>0</td>\n",
       "      <td>51</td>\n",
       "      <td>0.0</td>\n",
       "      <td>4.440892e-14</td>\n",
       "    </tr>\n",
       "  </tbody>\n",
       "</table>\n",
       "</div>"
      ],
      "text/plain": [
       "                       Метод  Минимальное значение f(x)  \\\n",
       "0  Метод половинного деления                   1.000000   \n",
       "1     Метод золотого сечения                   1.000000   \n",
       "2            Метод Фибоначчи                   1.002045   \n",
       "3     Метод Ньютона L-BFGS-B                   1.000000   \n",
       "4              Метод Ньютона                   1.000000   \n",
       "\n",
       "  Минимальное значение x  Число итераций  Время выполнения  \\\n",
       "0                      0              17               0.0   \n",
       "1                      0              24               0.0   \n",
       "2               0.002043              21               0.0   \n",
       "3                  [0.0]               4               0.0   \n",
       "4                      0              51               0.0   \n",
       "\n",
       "   Длина конечного отрезка  \n",
       "0             7.629395e-04  \n",
       "1             9.632154e-04  \n",
       "2             4.085635e-03  \n",
       "3             4.085635e-03  \n",
       "4             4.440892e-14  "
      ]
     },
     "execution_count": 74,
     "metadata": {},
     "output_type": "execute_result"
    }
   ],
   "source": [
    "import pandas as pd\n",
    "\n",
    "df = pd.DataFrame({'Метод': ['Метод половинного деления', 'Метод золотого сечения', 'Метод Фибоначчи', 'Метод Ньютона L-BFGS-B', 'Метод Ньютона'], 'Минимальное значение f(x)': min_f_list, 'Минимальное значение x': min_x_list, 'Число итераций': iterations_list, 'Время выполнения': exec_time_list, 'Длина конечного отрезка': final_interval_length_list})\n",
    "df.to_excel('Таблица методов.xlsx', index=False)\n",
    "df"
   ]
  }
 ],
 "metadata": {
  "kernelspec": {
   "display_name": "Python 3",
   "language": "python",
   "name": "python3"
  },
  "language_info": {
   "codemirror_mode": {
    "name": "ipython",
    "version": 3
   },
   "file_extension": ".py",
   "mimetype": "text/x-python",
   "name": "python",
   "nbconvert_exporter": "python",
   "pygments_lexer": "ipython3",
   "version": "3.11.6"
  }
 },
 "nbformat": 4,
 "nbformat_minor": 2
}
